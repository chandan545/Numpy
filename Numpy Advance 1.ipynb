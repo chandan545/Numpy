{
 "cells": [
  {
   "cell_type": "code",
   "execution_count": 1,
   "id": "ec6ee20e-b527-41f9-98f0-ac3806381a03",
   "metadata": {},
   "outputs": [],
   "source": [
    "import numpy as np"
   ]
  },
  {
   "cell_type": "code",
   "execution_count": 3,
   "id": "524d45f6-e07a-4019-b16a-3dcd9e6889d0",
   "metadata": {},
   "outputs": [
    {
     "data": {
      "text/plain": [
       "array([0., 0., 0., 0., 0.])"
      ]
     },
     "execution_count": 3,
     "metadata": {},
     "output_type": "execute_result"
    }
   ],
   "source": [
    "np.zeros(5) #return a new array of given shape and type, filled with zeros."
   ]
  },
  {
   "cell_type": "code",
   "execution_count": 5,
   "id": "cc00c6ad-5071-4e79-b829-13e9bb99188c",
   "metadata": {},
   "outputs": [],
   "source": [
    "a = np.zeros(5)"
   ]
  },
  {
   "cell_type": "code",
   "execution_count": 7,
   "id": "59756d7c-c3d8-421f-8d66-347c1d276e94",
   "metadata": {},
   "outputs": [
    {
     "data": {
      "text/plain": [
       "array([0., 0., 0., 0., 0.])"
      ]
     },
     "execution_count": 7,
     "metadata": {},
     "output_type": "execute_result"
    }
   ],
   "source": [
    "a"
   ]
  },
  {
   "cell_type": "code",
   "execution_count": 9,
   "id": "dcd1bff1-99e2-4d96-b412-317e72b70bde",
   "metadata": {},
   "outputs": [
    {
     "data": {
      "text/plain": [
       "1"
      ]
     },
     "execution_count": 9,
     "metadata": {},
     "output_type": "execute_result"
    }
   ],
   "source": [
    "a.ndim"
   ]
  },
  {
   "cell_type": "code",
   "execution_count": 11,
   "id": "3c340f30-5178-47c3-95b8-32a1428afe37",
   "metadata": {},
   "outputs": [
    {
     "data": {
      "text/plain": [
       "array([0, 0, 0, 0, 0])"
      ]
     },
     "execution_count": 11,
     "metadata": {},
     "output_type": "execute_result"
    }
   ],
   "source": [
    "np.zeros(5, dtype=int)"
   ]
  },
  {
   "cell_type": "code",
   "execution_count": 13,
   "id": "d5b77147-037d-4766-8932-954fdc5e96b1",
   "metadata": {},
   "outputs": [
    {
     "data": {
      "text/plain": [
       "array([[0., 0., 0., 0.],\n",
       "       [0., 0., 0., 0.],\n",
       "       [0., 0., 0., 0.]])"
      ]
     },
     "execution_count": 13,
     "metadata": {},
     "output_type": "execute_result"
    }
   ],
   "source": [
    "np.zeros((3,4))"
   ]
  },
  {
   "cell_type": "code",
   "execution_count": 15,
   "id": "fd0d6d79-fc67-4150-b1bb-a064b9a8d1b5",
   "metadata": {},
   "outputs": [],
   "source": [
    "b = np.zeros((3, 4))"
   ]
  },
  {
   "cell_type": "code",
   "execution_count": 17,
   "id": "ef542bf1-79e6-43bc-a068-fb98e3575621",
   "metadata": {},
   "outputs": [
    {
     "data": {
      "text/plain": [
       "array([[0., 0., 0., 0.],\n",
       "       [0., 0., 0., 0.],\n",
       "       [0., 0., 0., 0.]])"
      ]
     },
     "execution_count": 17,
     "metadata": {},
     "output_type": "execute_result"
    }
   ],
   "source": [
    "b"
   ]
  },
  {
   "cell_type": "code",
   "execution_count": 19,
   "id": "5ba0dd76-894a-4489-ae0c-f5922bcb3bea",
   "metadata": {},
   "outputs": [
    {
     "data": {
      "text/plain": [
       "2"
      ]
     },
     "execution_count": 19,
     "metadata": {},
     "output_type": "execute_result"
    }
   ],
   "source": [
    "b.ndim  ##two dimension"
   ]
  },
  {
   "cell_type": "code",
   "execution_count": 21,
   "id": "b3d97e2f-78d2-4567-9e4b-cef6a4862c02",
   "metadata": {},
   "outputs": [
    {
     "data": {
      "text/plain": [
       "array([1, 1, 1, 1, 1])"
      ]
     },
     "execution_count": 21,
     "metadata": {},
     "output_type": "execute_result"
    }
   ],
   "source": [
    "np.ones(5, dtype=int)"
   ]
  },
  {
   "cell_type": "code",
   "execution_count": 23,
   "id": "883e6c66-f267-4a81-8c36-52dbf404a4ac",
   "metadata": {},
   "outputs": [
    {
     "data": {
      "text/plain": [
       "array([1., 1., 1., 1., 1.])"
      ]
     },
     "execution_count": 23,
     "metadata": {},
     "output_type": "execute_result"
    }
   ],
   "source": [
    "np.ones(5)"
   ]
  },
  {
   "cell_type": "code",
   "execution_count": 25,
   "id": "592239d5-96a7-45ff-8956-df9ba41cab87",
   "metadata": {},
   "outputs": [
    {
     "data": {
      "text/plain": [
       "array([[1., 1., 1., 1.],\n",
       "       [1., 1., 1., 1.],\n",
       "       [1., 1., 1., 1.]])"
      ]
     },
     "execution_count": 25,
     "metadata": {},
     "output_type": "execute_result"
    }
   ],
   "source": [
    "np.ones((3,4))"
   ]
  },
  {
   "cell_type": "code",
   "execution_count": 27,
   "id": "465e32a0-e507-4a4d-8f24-f57b2e173546",
   "metadata": {},
   "outputs": [
    {
     "ename": "AttributeError",
     "evalue": "module 'numpy' has no attribute 'twos'",
     "output_type": "error",
     "traceback": [
      "\u001b[1;31m---------------------------------------------------------------------------\u001b[0m",
      "\u001b[1;31mAttributeError\u001b[0m                            Traceback (most recent call last)",
      "Cell \u001b[1;32mIn[27], line 1\u001b[0m\n\u001b[1;32m----> 1\u001b[0m np\u001b[38;5;241m.\u001b[39mtwos(\u001b[38;5;241m5\u001b[39m)\n",
      "File \u001b[1;32m~\\anaconda3\\Lib\\site-packages\\numpy\\__init__.py:333\u001b[0m, in \u001b[0;36m__getattr__\u001b[1;34m(attr)\u001b[0m\n\u001b[0;32m    330\u001b[0m     \u001b[38;5;124m\"\u001b[39m\u001b[38;5;124mRemoved in NumPy 1.25.0\u001b[39m\u001b[38;5;124m\"\u001b[39m\n\u001b[0;32m    331\u001b[0m     \u001b[38;5;28;01mraise\u001b[39;00m \u001b[38;5;167;01mRuntimeError\u001b[39;00m(\u001b[38;5;124m\"\u001b[39m\u001b[38;5;124mTester was removed in NumPy 1.25.\u001b[39m\u001b[38;5;124m\"\u001b[39m)\n\u001b[1;32m--> 333\u001b[0m \u001b[38;5;28;01mraise\u001b[39;00m \u001b[38;5;167;01mAttributeError\u001b[39;00m(\u001b[38;5;124m\"\u001b[39m\u001b[38;5;124mmodule \u001b[39m\u001b[38;5;132;01m{!r}\u001b[39;00m\u001b[38;5;124m has no attribute \u001b[39m\u001b[38;5;124m\"\u001b[39m\n\u001b[0;32m    334\u001b[0m                      \u001b[38;5;124m\"\u001b[39m\u001b[38;5;132;01m{!r}\u001b[39;00m\u001b[38;5;124m\"\u001b[39m\u001b[38;5;241m.\u001b[39mformat(\u001b[38;5;18m__name__\u001b[39m, attr))\n",
      "\u001b[1;31mAttributeError\u001b[0m: module 'numpy' has no attribute 'twos'"
     ]
    }
   ],
   "source": [
    "np.twos(5) #doesn't exist"
   ]
  },
  {
   "cell_type": "code",
   "execution_count": 29,
   "id": "392eeeed-a7c0-442e-adda-1bd89e06a478",
   "metadata": {},
   "outputs": [
    {
     "data": {
      "text/plain": [
       "array([[2, 2, 2],\n",
       "       [2, 2, 2]])"
      ]
     },
     "execution_count": 29,
     "metadata": {},
     "output_type": "execute_result"
    }
   ],
   "source": [
    "np.array([[2, 2, 2], [2, 2, 2]])"
   ]
  },
  {
   "cell_type": "code",
   "execution_count": 31,
   "id": "394ea102-37b7-4531-be10-b957e2e364dc",
   "metadata": {},
   "outputs": [
    {
     "data": {
      "text/plain": [
       "array([[0., 0., 0., 0.],\n",
       "       [0., 0., 0., 0.],\n",
       "       [0., 0., 0., 0.]])"
      ]
     },
     "execution_count": 31,
     "metadata": {},
     "output_type": "execute_result"
    }
   ],
   "source": [
    "np.zeros((3, 4))"
   ]
  },
  {
   "cell_type": "code",
   "execution_count": 33,
   "id": "b84d00e8-12d4-4218-835b-7864aaed78cc",
   "metadata": {},
   "outputs": [],
   "source": [
    "arr = np.zeros((3, 4))"
   ]
  },
  {
   "cell_type": "code",
   "execution_count": 35,
   "id": "067db442-242c-4f53-aad3-5d77e3e9d70a",
   "metadata": {},
   "outputs": [
    {
     "data": {
      "text/plain": [
       "array([[0., 0., 0., 0.],\n",
       "       [0., 0., 0., 0.],\n",
       "       [0., 0., 0., 0.]])"
      ]
     },
     "execution_count": 35,
     "metadata": {},
     "output_type": "execute_result"
    }
   ],
   "source": [
    "arr"
   ]
  },
  {
   "cell_type": "code",
   "execution_count": 37,
   "id": "43b2cef5-c6e6-4785-ad42-c20240f286ca",
   "metadata": {},
   "outputs": [
    {
     "data": {
      "text/plain": [
       "2"
      ]
     },
     "execution_count": 37,
     "metadata": {},
     "output_type": "execute_result"
    }
   ],
   "source": [
    "arr.ndim"
   ]
  },
  {
   "cell_type": "code",
   "execution_count": 39,
   "id": "4862167d-3c4e-4509-a9fd-8a822fcbd22b",
   "metadata": {},
   "outputs": [],
   "source": [
    "#one dimension array"
   ]
  },
  {
   "cell_type": "code",
   "execution_count": 41,
   "id": "37f0a4fc-1468-4e50-bc57-895c53820f74",
   "metadata": {},
   "outputs": [
    {
     "data": {
      "text/plain": [
       "array([0., 0., 0.])"
      ]
     },
     "execution_count": 41,
     "metadata": {},
     "output_type": "execute_result"
    }
   ],
   "source": [
    "np.zeros(3)"
   ]
  },
  {
   "cell_type": "code",
   "execution_count": 43,
   "id": "3b3f9c4c-a5b8-4622-aae7-254c1ec07334",
   "metadata": {},
   "outputs": [],
   "source": [
    "#two dimension array"
   ]
  },
  {
   "cell_type": "code",
   "execution_count": 45,
   "id": "d94c8c25-6d6b-48f0-9b52-5e38b15c98c3",
   "metadata": {},
   "outputs": [
    {
     "data": {
      "text/plain": [
       "array([[0., 0., 0., 0.],\n",
       "       [0., 0., 0., 0.],\n",
       "       [0., 0., 0., 0.]])"
      ]
     },
     "execution_count": 45,
     "metadata": {},
     "output_type": "execute_result"
    }
   ],
   "source": [
    "np.zeros((3, 4))"
   ]
  },
  {
   "cell_type": "code",
   "execution_count": 47,
   "id": "b3d3c9f2-1f9c-41a0-9b19-de1a4bfb7785",
   "metadata": {},
   "outputs": [],
   "source": [
    "#three dimension array"
   ]
  },
  {
   "cell_type": "code",
   "execution_count": 49,
   "id": "67fa6a09-a530-4076-a193-49ccbbad9f0a",
   "metadata": {},
   "outputs": [
    {
     "data": {
      "text/plain": [
       "array([[[0., 0., 0., 0.],\n",
       "        [0., 0., 0., 0.],\n",
       "        [0., 0., 0., 0.]]])"
      ]
     },
     "execution_count": 49,
     "metadata": {},
     "output_type": "execute_result"
    }
   ],
   "source": [
    "np.zeros((1, 3, 4))"
   ]
  },
  {
   "cell_type": "code",
   "execution_count": 51,
   "id": "6a899322-ed11-4acc-bcf3-1c0e3cc46583",
   "metadata": {},
   "outputs": [],
   "source": [
    "a = np.zeros((1, 3, 4))"
   ]
  },
  {
   "cell_type": "code",
   "execution_count": 53,
   "id": "32aaef2e-221a-423a-adc8-9ab56307cc0c",
   "metadata": {},
   "outputs": [
    {
     "data": {
      "text/plain": [
       "array([[0., 0., 0., 0.],\n",
       "       [0., 0., 0., 0.],\n",
       "       [0., 0., 0., 0.]])"
      ]
     },
     "execution_count": 53,
     "metadata": {},
     "output_type": "execute_result"
    }
   ],
   "source": [
    "arr"
   ]
  },
  {
   "cell_type": "code",
   "execution_count": 55,
   "id": "21be6652-ea92-4d3d-b65e-36b594d0661b",
   "metadata": {},
   "outputs": [
    {
     "data": {
      "text/plain": [
       "2"
      ]
     },
     "execution_count": 55,
     "metadata": {},
     "output_type": "execute_result"
    }
   ],
   "source": [
    "arr.ndim"
   ]
  },
  {
   "cell_type": "code",
   "execution_count": 57,
   "id": "148e724a-5980-424e-83ca-4263fe675311",
   "metadata": {},
   "outputs": [
    {
     "data": {
      "text/plain": [
       "array([[[0., 0., 0., 0.],\n",
       "        [0., 0., 0., 0.],\n",
       "        [0., 0., 0., 0.]],\n",
       "\n",
       "       [[0., 0., 0., 0.],\n",
       "        [0., 0., 0., 0.],\n",
       "        [0., 0., 0., 0.]]])"
      ]
     },
     "execution_count": 57,
     "metadata": {},
     "output_type": "execute_result"
    }
   ],
   "source": [
    "np.zeros((2, 3, 4))"
   ]
  },
  {
   "cell_type": "code",
   "execution_count": 59,
   "id": "7d0e94ea-87be-4fb7-87d4-6b1d229467aa",
   "metadata": {},
   "outputs": [
    {
     "data": {
      "text/plain": [
       "array([[[0., 0., 0.],\n",
       "        [0., 0., 0.],\n",
       "        [0., 0., 0.]]])"
      ]
     },
     "execution_count": 59,
     "metadata": {},
     "output_type": "execute_result"
    }
   ],
   "source": [
    "np.zeros((1, 3, 3))"
   ]
  },
  {
   "cell_type": "code",
   "execution_count": 61,
   "id": "d7507cce-5a4f-4611-bca8-c1b4d8348fe1",
   "metadata": {},
   "outputs": [],
   "source": [
    "#four dimension array"
   ]
  },
  {
   "cell_type": "code",
   "execution_count": 63,
   "id": "48b70ba3-52f8-4bd7-9052-3504d8a034fc",
   "metadata": {},
   "outputs": [
    {
     "data": {
      "text/plain": [
       "array([[[[0., 0., 0.],\n",
       "         [0., 0., 0.],\n",
       "         [0., 0., 0.]]]])"
      ]
     },
     "execution_count": 63,
     "metadata": {},
     "output_type": "execute_result"
    }
   ],
   "source": [
    "np.zeros((1, 1, 3, 3))"
   ]
  },
  {
   "cell_type": "code",
   "execution_count": 65,
   "id": "0acd5f69-46d8-42a7-94b2-b69d6b07042d",
   "metadata": {},
   "outputs": [],
   "source": [
    "b = np.zeros((1, 1, 3, 3))"
   ]
  },
  {
   "cell_type": "code",
   "execution_count": 67,
   "id": "23cc5a0b-49ba-448f-9940-4a02da9d11c8",
   "metadata": {},
   "outputs": [
    {
     "data": {
      "text/plain": [
       "4"
      ]
     },
     "execution_count": 67,
     "metadata": {},
     "output_type": "execute_result"
    }
   ],
   "source": [
    "b.ndim"
   ]
  },
  {
   "cell_type": "code",
   "execution_count": 69,
   "id": "229d9f33-3911-4ff2-9c47-8aa90ed1b718",
   "metadata": {},
   "outputs": [],
   "source": [
    "#five dimension array"
   ]
  },
  {
   "cell_type": "code",
   "execution_count": 71,
   "id": "c7ee643a-c381-4e73-8581-8a7ebc776125",
   "metadata": {},
   "outputs": [
    {
     "data": {
      "text/plain": [
       "array([[[[[0., 0., 0.],\n",
       "          [0., 0., 0.],\n",
       "          [0., 0., 0.]]]]])"
      ]
     },
     "execution_count": 71,
     "metadata": {},
     "output_type": "execute_result"
    }
   ],
   "source": [
    "np.zeros((1, 1, 1, 3, 3))"
   ]
  },
  {
   "cell_type": "code",
   "execution_count": 73,
   "id": "b2fabca6-5d78-42a9-bfc6-836fed409212",
   "metadata": {},
   "outputs": [],
   "source": [
    "c = np.zeros((1, 1, 1, 3, 3))"
   ]
  },
  {
   "cell_type": "code",
   "execution_count": 75,
   "id": "a382722e-1ff0-433e-8863-a97e8fba38f1",
   "metadata": {},
   "outputs": [
    {
     "data": {
      "text/plain": [
       "array([[[[[0., 0., 0.],\n",
       "          [0., 0., 0.],\n",
       "          [0., 0., 0.]]]]])"
      ]
     },
     "execution_count": 75,
     "metadata": {},
     "output_type": "execute_result"
    }
   ],
   "source": [
    "c"
   ]
  },
  {
   "cell_type": "code",
   "execution_count": 77,
   "id": "1510a3e9-d677-4b0c-8687-0d0b0b47c41c",
   "metadata": {},
   "outputs": [
    {
     "data": {
      "text/plain": [
       "5"
      ]
     },
     "execution_count": 77,
     "metadata": {},
     "output_type": "execute_result"
    }
   ],
   "source": [
    "c.ndim"
   ]
  },
  {
   "cell_type": "code",
   "execution_count": 79,
   "id": "7df45135-313c-45fe-8690-ef87256853fe",
   "metadata": {},
   "outputs": [],
   "source": [
    "arr = np.zeros((3, 4))"
   ]
  },
  {
   "cell_type": "code",
   "execution_count": 81,
   "id": "626aa6a2-593b-4df0-baf4-24c1696d91ce",
   "metadata": {},
   "outputs": [
    {
     "data": {
      "text/plain": [
       "array([[0., 0., 0., 0.],\n",
       "       [0., 0., 0., 0.],\n",
       "       [0., 0., 0., 0.]])"
      ]
     },
     "execution_count": 81,
     "metadata": {},
     "output_type": "execute_result"
    }
   ],
   "source": [
    "arr"
   ]
  },
  {
   "cell_type": "code",
   "execution_count": 83,
   "id": "d200b0c7-a79d-45d1-a41c-f8532856d61a",
   "metadata": {},
   "outputs": [
    {
     "data": {
      "text/plain": [
       "array([[5., 5., 5., 5.],\n",
       "       [5., 5., 5., 5.],\n",
       "       [5., 5., 5., 5.]])"
      ]
     },
     "execution_count": 83,
     "metadata": {},
     "output_type": "execute_result"
    }
   ],
   "source": [
    "arr+5"
   ]
  },
  {
   "cell_type": "code",
   "execution_count": 85,
   "id": "1ce4ff25-12e1-4a0a-ac71-0706143abf86",
   "metadata": {},
   "outputs": [],
   "source": [
    "a = arr+5"
   ]
  },
  {
   "cell_type": "code",
   "execution_count": 87,
   "id": "fb8fbdbd-037e-4cfc-908e-3128b778b8cc",
   "metadata": {},
   "outputs": [
    {
     "data": {
      "text/plain": [
       "array([[10., 10., 10., 10.],\n",
       "       [10., 10., 10., 10.],\n",
       "       [10., 10., 10., 10.]])"
      ]
     },
     "execution_count": 87,
     "metadata": {},
     "output_type": "execute_result"
    }
   ],
   "source": [
    "a*2"
   ]
  },
  {
   "cell_type": "code",
   "execution_count": 89,
   "id": "0bf1c3eb-413d-4b97-870f-f9cca0d77f5e",
   "metadata": {},
   "outputs": [
    {
     "data": {
      "text/plain": [
       "array([[5., 5., 5., 5.],\n",
       "       [5., 5., 5., 5.],\n",
       "       [5., 5., 5., 5.]])"
      ]
     },
     "execution_count": 89,
     "metadata": {},
     "output_type": "execute_result"
    }
   ],
   "source": [
    "a"
   ]
  },
  {
   "cell_type": "code",
   "execution_count": 91,
   "id": "71b00a5c-7b3a-4f93-8b2d-b856f8d5e852",
   "metadata": {},
   "outputs": [
    {
     "data": {
      "text/plain": [
       "array([[4., 4., 4., 4.],\n",
       "       [4., 4., 4., 4.],\n",
       "       [4., 4., 4., 4.]])"
      ]
     },
     "execution_count": 91,
     "metadata": {},
     "output_type": "execute_result"
    }
   ],
   "source": [
    "a - 1"
   ]
  },
  {
   "cell_type": "code",
   "execution_count": 93,
   "id": "8cb690d3-c878-4209-b155-5a39f01745a4",
   "metadata": {},
   "outputs": [
    {
     "data": {
      "text/plain": [
       "array([[1., 0., 0.],\n",
       "       [0., 1., 0.],\n",
       "       [0., 0., 1.]])"
      ]
     },
     "execution_count": 93,
     "metadata": {},
     "output_type": "execute_result"
    }
   ],
   "source": [
    "np.eye(3) #return a 2-D array with ones on the diagonal and zeros elsewhere."
   ]
  },
  {
   "cell_type": "code",
   "execution_count": 95,
   "id": "f70684eb-a106-4baf-84ed-ee49dbfb287b",
   "metadata": {},
   "outputs": [
    {
     "data": {
      "text/plain": [
       "array([[1, 0, 0],\n",
       "       [0, 1, 0],\n",
       "       [0, 0, 1]])"
      ]
     },
     "execution_count": 95,
     "metadata": {},
     "output_type": "execute_result"
    }
   ],
   "source": [
    "np.eye(3, dtype = int)"
   ]
  },
  {
   "cell_type": "code",
   "execution_count": 97,
   "id": "00a590d1-f6c1-4d12-80ac-6d28def876fe",
   "metadata": {},
   "outputs": [
    {
     "data": {
      "text/plain": [
       "array([[4., 4., 4., 4.],\n",
       "       [4., 4., 4., 4.],\n",
       "       [4., 4., 4., 4.]])"
      ]
     },
     "execution_count": 97,
     "metadata": {},
     "output_type": "execute_result"
    }
   ],
   "source": [
    "np.empty((3, 4)) #it gives you random numbers or values"
   ]
  },
  {
   "cell_type": "code",
   "execution_count": 99,
   "id": "faf6892d-dc4b-4a16-bfa1-d8111c904614",
   "metadata": {},
   "outputs": [
    {
     "data": {
      "text/plain": [
       "array([[4., 4., 4., 4.],\n",
       "       [4., 4., 4., 4.],\n",
       "       [4., 4., 4., 4.]])"
      ]
     },
     "execution_count": 99,
     "metadata": {},
     "output_type": "execute_result"
    }
   ],
   "source": [
    "np.empty((3, 4))"
   ]
  },
  {
   "cell_type": "code",
   "execution_count": 101,
   "id": "8e8242c3-5e9b-47a6-97ca-4e5e359d0801",
   "metadata": {},
   "outputs": [],
   "source": [
    "#optional>> random module"
   ]
  },
  {
   "cell_type": "code",
   "execution_count": 103,
   "id": "3de2645b-b5f3-4ab8-9926-05f66d752907",
   "metadata": {},
   "outputs": [],
   "source": [
    "import random"
   ]
  },
  {
   "cell_type": "code",
   "execution_count": 105,
   "id": "8fe83dcb-846e-4af9-8d0f-00ceeae756c0",
   "metadata": {},
   "outputs": [
    {
     "data": {
      "text/plain": [
       "2"
      ]
     },
     "execution_count": 105,
     "metadata": {},
     "output_type": "execute_result"
    }
   ],
   "source": [
    "random.choice((1, 2, 3, 4, 5))"
   ]
  },
  {
   "cell_type": "code",
   "execution_count": 107,
   "id": "e4f344ea-1725-45fa-8b68-deb318a7a6aa",
   "metadata": {},
   "outputs": [
    {
     "data": {
      "text/plain": [
       "'a'"
      ]
     },
     "execution_count": 107,
     "metadata": {},
     "output_type": "execute_result"
    }
   ],
   "source": [
    "random.choice(\"Chandan\")"
   ]
  },
  {
   "cell_type": "code",
   "execution_count": 109,
   "id": "61ff6605-4a50-4f6b-9cde-4e5edd6234bc",
   "metadata": {},
   "outputs": [
    {
     "data": {
      "text/plain": [
       "9"
      ]
     },
     "execution_count": 109,
     "metadata": {},
     "output_type": "execute_result"
    }
   ],
   "source": [
    "random.randrange(1, 10)"
   ]
  },
  {
   "cell_type": "code",
   "execution_count": 111,
   "id": "4393d1a6-ed61-421b-8b36-4fc263915c13",
   "metadata": {},
   "outputs": [
    {
     "data": {
      "text/plain": [
       "0.9218567065269818"
      ]
     },
     "execution_count": 111,
     "metadata": {},
     "output_type": "execute_result"
    }
   ],
   "source": [
    "random.random() #a random no generated between 0(included) and 1(excluded)"
   ]
  },
  {
   "cell_type": "code",
   "execution_count": 113,
   "id": "4118c08b-402a-430c-a3ee-33a1cb10b4a8",
   "metadata": {},
   "outputs": [
    {
     "data": {
      "text/plain": [
       "[1, 2, 3, 4, 5]"
      ]
     },
     "execution_count": 113,
     "metadata": {},
     "output_type": "execute_result"
    }
   ],
   "source": [
    "lis = [1, 2, 3, 4, 5]\n",
    "lis"
   ]
  },
  {
   "cell_type": "code",
   "execution_count": 115,
   "id": "ab5e2c6e-8f10-4154-9468-63fab973e56a",
   "metadata": {},
   "outputs": [],
   "source": [
    "random.shuffle(lis)"
   ]
  },
  {
   "cell_type": "code",
   "execution_count": 117,
   "id": "36fee622-319f-4b5e-af7d-ecb5dfe5ee85",
   "metadata": {},
   "outputs": [
    {
     "data": {
      "text/plain": [
       "[4, 1, 2, 5, 3]"
      ]
     },
     "execution_count": 117,
     "metadata": {},
     "output_type": "execute_result"
    }
   ],
   "source": [
    "lis"
   ]
  },
  {
   "cell_type": "code",
   "execution_count": 119,
   "id": "9755eaf7-2cb9-4f17-8bbd-8b307f7aa621",
   "metadata": {},
   "outputs": [
    {
     "data": {
      "text/plain": [
       "9.151997723517999"
      ]
     },
     "execution_count": 119,
     "metadata": {},
     "output_type": "execute_result"
    }
   ],
   "source": [
    "random.uniform(7, 14)"
   ]
  },
  {
   "cell_type": "code",
   "execution_count": 121,
   "id": "c8613ba9-2ab8-4315-9fb1-4072c4b658e1",
   "metadata": {},
   "outputs": [
    {
     "data": {
      "text/plain": [
       "array([], dtype=float64)"
      ]
     },
     "execution_count": 121,
     "metadata": {},
     "output_type": "execute_result"
    }
   ],
   "source": [
    "#random numbers related concept in numpy\n",
    "\n",
    "np.array([])"
   ]
  },
  {
   "cell_type": "code",
   "execution_count": 123,
   "id": "02e97f77-6695-458f-8ffd-f9e4e8fff5aa",
   "metadata": {},
   "outputs": [
    {
     "data": {
      "text/plain": [
       "0.6703109868707068"
      ]
     },
     "execution_count": 123,
     "metadata": {},
     "output_type": "execute_result"
    }
   ],
   "source": [
    "np.random.random_sample()"
   ]
  },
  {
   "cell_type": "code",
   "execution_count": 125,
   "id": "d870531a-f448-42d3-aa36-f4f6c7059b5e",
   "metadata": {},
   "outputs": [
    {
     "data": {
      "text/plain": [
       "array([0.76384645, 0.11588785, 0.42396109, 0.03576873, 0.52593262])"
      ]
     },
     "execution_count": 125,
     "metadata": {},
     "output_type": "execute_result"
    }
   ],
   "source": [
    "np.random.random_sample((5, )) #one dimension array of 5 random numbers"
   ]
  },
  {
   "cell_type": "code",
   "execution_count": 127,
   "id": "fcc2264a-6ee2-41e5-bb3e-2cdd5a8fdb80",
   "metadata": {},
   "outputs": [
    {
     "data": {
      "text/plain": [
       "array([0.83838409])"
      ]
     },
     "execution_count": 127,
     "metadata": {},
     "output_type": "execute_result"
    }
   ],
   "source": [
    "np.random.rand(1)"
   ]
  },
  {
   "cell_type": "code",
   "execution_count": 129,
   "id": "f2b37b1f-1d79-4ff3-9ea6-6e1dc7027ae5",
   "metadata": {},
   "outputs": [
    {
     "data": {
      "text/plain": [
       "array([[0.68054465, 0.29376759, 0.23295131],\n",
       "       [0.98308684, 0.83856483, 0.95960842]])"
      ]
     },
     "execution_count": 129,
     "metadata": {},
     "output_type": "execute_result"
    }
   ],
   "source": [
    "np.random.rand(2, 3) #return a sample (or samples) from the \"standard normal\" dustribution. (returns data from a curve)"
   ]
  },
  {
   "cell_type": "code",
   "execution_count": 131,
   "id": "a3d5f18a-84a1-451b-8518-5f733ee1daf3",
   "metadata": {},
   "outputs": [
    {
     "data": {
      "text/plain": [
       "0.09028114946095657"
      ]
     },
     "execution_count": 131,
     "metadata": {},
     "output_type": "execute_result"
    }
   ],
   "source": [
    "np.random.randn() #return a sample (or samples) from the \"standard normal\" dustribution. (returns data from a curve)"
   ]
  },
  {
   "cell_type": "code",
   "execution_count": 133,
   "id": "5dda9a37-d198-4fc9-8d92-4b04ba79f7c9",
   "metadata": {},
   "outputs": [
    {
     "data": {
      "text/plain": [
       "array([[1, 4, 2, 2],\n",
       "       [2, 3, 4, 1],\n",
       "       [2, 1, 4, 3]])"
      ]
     },
     "execution_count": 133,
     "metadata": {},
     "output_type": "execute_result"
    }
   ],
   "source": [
    "np.random.randint(1, 5, size = (3, 4))"
   ]
  },
  {
   "cell_type": "code",
   "execution_count": 135,
   "id": "83b43f15-ef6b-418a-b8fb-9cddcdcbe1b6",
   "metadata": {},
   "outputs": [],
   "source": [
    "arr = np.random.randint(1, 5, size = (3, 4))"
   ]
  },
  {
   "cell_type": "code",
   "execution_count": 137,
   "id": "b7652651-f19a-43c2-a325-fe2d2098bbe3",
   "metadata": {},
   "outputs": [
    {
     "data": {
      "text/plain": [
       "2"
      ]
     },
     "execution_count": 137,
     "metadata": {},
     "output_type": "execute_result"
    }
   ],
   "source": [
    "arr.ndim"
   ]
  },
  {
   "cell_type": "code",
   "execution_count": 139,
   "id": "8d08b4fd-7eeb-47e7-b1e4-27f2a20b9e4f",
   "metadata": {},
   "outputs": [
    {
     "data": {
      "text/plain": [
       "(3, 4)"
      ]
     },
     "execution_count": 139,
     "metadata": {},
     "output_type": "execute_result"
    }
   ],
   "source": [
    "arr.shape"
   ]
  },
  {
   "cell_type": "code",
   "execution_count": 141,
   "id": "dae17863-06de-47f3-8456-022dd07686a9",
   "metadata": {},
   "outputs": [
    {
     "data": {
      "text/plain": [
       "12"
      ]
     },
     "execution_count": 141,
     "metadata": {},
     "output_type": "execute_result"
    }
   ],
   "source": [
    "arr.size"
   ]
  },
  {
   "cell_type": "code",
   "execution_count": 143,
   "id": "e29f8ac5-4f8d-49a9-8c7c-4b4437149156",
   "metadata": {},
   "outputs": [
    {
     "data": {
      "text/plain": [
       "array([[4, 4, 1, 4],\n",
       "       [1, 2, 1, 4],\n",
       "       [4, 4, 4, 2]])"
      ]
     },
     "execution_count": 143,
     "metadata": {},
     "output_type": "execute_result"
    }
   ],
   "source": [
    "arr"
   ]
  },
  {
   "cell_type": "code",
   "execution_count": 145,
   "id": "45d596c5-417d-46ba-adfa-7327daf53014",
   "metadata": {},
   "outputs": [
    {
     "data": {
      "text/plain": [
       "array([[4, 4, 1, 4, 1, 2],\n",
       "       [1, 4, 4, 4, 4, 2]])"
      ]
     },
     "execution_count": 145,
     "metadata": {},
     "output_type": "execute_result"
    }
   ],
   "source": [
    "#reshaping of array\n",
    "arr.reshape(2, 6) #returns an array containing the same data with a new shape"
   ]
  },
  {
   "cell_type": "code",
   "execution_count": 147,
   "id": "d3fd2c8c-bc4f-49a5-be3d-ea79d686fa54",
   "metadata": {},
   "outputs": [],
   "source": [
    "arr1 = arr.reshape(2, 6)"
   ]
  },
  {
   "cell_type": "code",
   "execution_count": 149,
   "id": "72c758f6-a1c3-4d04-a55c-c7481d630bd3",
   "metadata": {},
   "outputs": [
    {
     "data": {
      "text/plain": [
       "array([[4, 4, 1, 4, 1, 2],\n",
       "       [1, 4, 4, 4, 4, 2]])"
      ]
     },
     "execution_count": 149,
     "metadata": {},
     "output_type": "execute_result"
    }
   ],
   "source": [
    "arr1"
   ]
  },
  {
   "cell_type": "code",
   "execution_count": 151,
   "id": "a4683599-d7db-4457-aa62-6db8d1d87247",
   "metadata": {},
   "outputs": [
    {
     "data": {
      "text/plain": [
       "12"
      ]
     },
     "execution_count": 151,
     "metadata": {},
     "output_type": "execute_result"
    }
   ],
   "source": [
    "arr1.size"
   ]
  },
  {
   "cell_type": "code",
   "execution_count": 153,
   "id": "f21e5a51-2f5b-4a99-945f-6c5946cf1424",
   "metadata": {},
   "outputs": [
    {
     "data": {
      "text/plain": [
       "(2, 6)"
      ]
     },
     "execution_count": 153,
     "metadata": {},
     "output_type": "execute_result"
    }
   ],
   "source": [
    "arr1.shape"
   ]
  },
  {
   "cell_type": "code",
   "execution_count": 155,
   "id": "39ce6b40-2655-4a6a-bb44-2b4428d3d269",
   "metadata": {},
   "outputs": [
    {
     "data": {
      "text/plain": [
       "2"
      ]
     },
     "execution_count": 155,
     "metadata": {},
     "output_type": "execute_result"
    }
   ],
   "source": [
    "arr1.ndim"
   ]
  },
  {
   "cell_type": "code",
   "execution_count": 157,
   "id": "5c0832a1-2fae-47e2-a162-cd293600a133",
   "metadata": {},
   "outputs": [],
   "source": [
    "#array size will never change, always reshape parameter should be multiplication of original array size"
   ]
  },
  {
   "cell_type": "code",
   "execution_count": 159,
   "id": "db3dbe2b-130f-480e-b150-8111e2b56df4",
   "metadata": {},
   "outputs": [
    {
     "data": {
      "text/plain": [
       "array([[4, 4, 1, 4],\n",
       "       [1, 2, 1, 4],\n",
       "       [4, 4, 4, 2]])"
      ]
     },
     "execution_count": 159,
     "metadata": {},
     "output_type": "execute_result"
    }
   ],
   "source": [
    "arr"
   ]
  },
  {
   "cell_type": "code",
   "execution_count": 161,
   "id": "bd9af5a6-9cc9-4d19-ab87-33120c723b50",
   "metadata": {},
   "outputs": [
    {
     "ename": "ValueError",
     "evalue": "cannot reshape array of size 12 into shape (3,2)",
     "output_type": "error",
     "traceback": [
      "\u001b[1;31m---------------------------------------------------------------------------\u001b[0m",
      "\u001b[1;31mValueError\u001b[0m                                Traceback (most recent call last)",
      "Cell \u001b[1;32mIn[161], line 1\u001b[0m\n\u001b[1;32m----> 1\u001b[0m arr\u001b[38;5;241m.\u001b[39mreshape(\u001b[38;5;241m3\u001b[39m, \u001b[38;5;241m2\u001b[39m)\n",
      "\u001b[1;31mValueError\u001b[0m: cannot reshape array of size 12 into shape (3,2)"
     ]
    }
   ],
   "source": [
    "arr.reshape(3, 2)"
   ]
  },
  {
   "cell_type": "code",
   "execution_count": 163,
   "id": "4fc15e7b-d751-4e5e-ae91-4d7983e06a10",
   "metadata": {},
   "outputs": [
    {
     "ename": "ValueError",
     "evalue": "cannot reshape array of size 12 into shape (3,3)",
     "output_type": "error",
     "traceback": [
      "\u001b[1;31m---------------------------------------------------------------------------\u001b[0m",
      "\u001b[1;31mValueError\u001b[0m                                Traceback (most recent call last)",
      "Cell \u001b[1;32mIn[163], line 1\u001b[0m\n\u001b[1;32m----> 1\u001b[0m arr\u001b[38;5;241m.\u001b[39mreshape(\u001b[38;5;241m3\u001b[39m, \u001b[38;5;241m3\u001b[39m)\n",
      "\u001b[1;31mValueError\u001b[0m: cannot reshape array of size 12 into shape (3,3)"
     ]
    }
   ],
   "source": [
    "arr.reshape(3, 3)"
   ]
  },
  {
   "cell_type": "code",
   "execution_count": 165,
   "id": "7ad3d021-ce5f-4fb3-98aa-349490144f28",
   "metadata": {},
   "outputs": [
    {
     "data": {
      "text/plain": [
       "array([[4, 4, 1, 4],\n",
       "       [1, 2, 1, 4],\n",
       "       [4, 4, 4, 2]])"
      ]
     },
     "execution_count": 165,
     "metadata": {},
     "output_type": "execute_result"
    }
   ],
   "source": [
    "arr.reshape(3, 4)"
   ]
  },
  {
   "cell_type": "code",
   "execution_count": 169,
   "id": "0f22c00b-761f-4ea0-b436-554c76dbb0ae",
   "metadata": {},
   "outputs": [
    {
     "data": {
      "text/plain": [
       "array([[4, 4, 1],\n",
       "       [4, 1, 2],\n",
       "       [1, 4, 4],\n",
       "       [4, 4, 2]])"
      ]
     },
     "execution_count": 169,
     "metadata": {},
     "output_type": "execute_result"
    }
   ],
   "source": [
    "arr.reshape(4, 3)"
   ]
  },
  {
   "cell_type": "code",
   "execution_count": 171,
   "id": "a8b55554-27da-4cad-8544-7434f3296254",
   "metadata": {},
   "outputs": [
    {
     "data": {
      "text/plain": [
       "array([[4, 4, 1, 4, 1, 2, 1, 4, 4, 4, 4, 2]])"
      ]
     },
     "execution_count": 171,
     "metadata": {},
     "output_type": "execute_result"
    }
   ],
   "source": [
    "arr.reshape(1, 12)"
   ]
  },
  {
   "cell_type": "code",
   "execution_count": 175,
   "id": "be3f5a99-2acd-401a-9e6c-a748f3237104",
   "metadata": {},
   "outputs": [
    {
     "data": {
      "text/plain": [
       "array([[4],\n",
       "       [4],\n",
       "       [1],\n",
       "       [4],\n",
       "       [1],\n",
       "       [2],\n",
       "       [1],\n",
       "       [4],\n",
       "       [4],\n",
       "       [4],\n",
       "       [4],\n",
       "       [2]])"
      ]
     },
     "execution_count": 175,
     "metadata": {},
     "output_type": "execute_result"
    }
   ],
   "source": [
    "arr.reshape(12, 1)"
   ]
  },
  {
   "cell_type": "code",
   "execution_count": 177,
   "id": "f6d7eb51-1e1b-4a85-880d-4123f39a60ce",
   "metadata": {},
   "outputs": [
    {
     "data": {
      "text/plain": [
       "array([[4, 4, 1],\n",
       "       [4, 1, 2],\n",
       "       [1, 4, 4],\n",
       "       [4, 4, 2]])"
      ]
     },
     "execution_count": 177,
     "metadata": {},
     "output_type": "execute_result"
    }
   ],
   "source": [
    "#case when you dont know in reshape what should be the row or column count \n",
    "#use any negative value for rows and columns\n",
    "arr.reshape(4, -1)"
   ]
  },
  {
   "cell_type": "code",
   "execution_count": 179,
   "id": "65fb4b5b-330f-4dd5-8ce4-5de73529b203",
   "metadata": {},
   "outputs": [
    {
     "data": {
      "text/plain": [
       "array([[4, 4, 1],\n",
       "       [4, 1, 2],\n",
       "       [1, 4, 4],\n",
       "       [4, 4, 2]])"
      ]
     },
     "execution_count": 179,
     "metadata": {},
     "output_type": "execute_result"
    }
   ],
   "source": [
    "arr.reshape(4, -100) #put any negative value it will do the same"
   ]
  },
  {
   "cell_type": "code",
   "execution_count": 181,
   "id": "1be8b721-4996-4298-94c4-070e7d1a8352",
   "metadata": {},
   "outputs": [
    {
     "data": {
      "text/plain": [
       "array([[4, 4, 1, 4],\n",
       "       [1, 2, 1, 4],\n",
       "       [4, 4, 4, 2]])"
      ]
     },
     "execution_count": 181,
     "metadata": {},
     "output_type": "execute_result"
    }
   ],
   "source": [
    "arr.reshape(-1,4)   #when i don't know the no of rows to be put but i know the no of columns "
   ]
  },
  {
   "cell_type": "code",
   "execution_count": 183,
   "id": "de3ef6f6-cd4c-483d-bd55-4d196be74860",
   "metadata": {},
   "outputs": [
    {
     "data": {
      "text/plain": [
       "array([[4, 4, 1, 4],\n",
       "       [1, 2, 1, 4],\n",
       "       [4, 4, 4, 2]])"
      ]
     },
     "execution_count": 183,
     "metadata": {},
     "output_type": "execute_result"
    }
   ],
   "source": [
    "arr"
   ]
  },
  {
   "cell_type": "code",
   "execution_count": 187,
   "id": "dbb337ad-5d4f-4071-b9eb-ca8eaec9716b",
   "metadata": {},
   "outputs": [
    {
     "data": {
      "text/plain": [
       "array([[4],\n",
       "       [4],\n",
       "       [1],\n",
       "       [4],\n",
       "       [1],\n",
       "       [2],\n",
       "       [1],\n",
       "       [4],\n",
       "       [4],\n",
       "       [4],\n",
       "       [4],\n",
       "       [2]])"
      ]
     },
     "execution_count": 187,
     "metadata": {},
     "output_type": "execute_result"
    }
   ],
   "source": [
    "arr.reshape(12, 1)  #want to reshape this array"
   ]
  },
  {
   "cell_type": "code",
   "execution_count": 191,
   "id": "7d66cd83-087f-4909-ae66-b9ac0afc1537",
   "metadata": {},
   "outputs": [
    {
     "data": {
      "text/plain": [
       "array([[4, 4, 1, 4],\n",
       "       [1, 2, 1, 4],\n",
       "       [4, 4, 4, 2]])"
      ]
     },
     "execution_count": 191,
     "metadata": {},
     "output_type": "execute_result"
    }
   ],
   "source": [
    "arr.reshape(12, 1).base  #when you want to reshape the original array"
   ]
  },
  {
   "cell_type": "code",
   "execution_count": 193,
   "id": "7420a5e3-deb1-45db-842f-ffe9322d55c8",
   "metadata": {},
   "outputs": [
    {
     "data": {
      "text/plain": [
       "array([[[4, 4, 1],\n",
       "        [4, 1, 2]],\n",
       "\n",
       "       [[1, 4, 4],\n",
       "        [4, 4, 2]]])"
      ]
     },
     "execution_count": 193,
     "metadata": {},
     "output_type": "execute_result"
    }
   ],
   "source": [
    "arr.reshape(2, 2, 3) #multiplication should be equals to arr size"
   ]
  },
  {
   "cell_type": "code",
   "execution_count": 195,
   "id": "a9a5cd60-bf91-442d-8bb8-14f77af31ee3",
   "metadata": {},
   "outputs": [
    {
     "data": {
      "text/plain": [
       "array([[[[4, 4, 1],\n",
       "         [4, 1, 2]],\n",
       "\n",
       "        [[1, 4, 4],\n",
       "         [4, 4, 2]]]])"
      ]
     },
     "execution_count": 195,
     "metadata": {},
     "output_type": "execute_result"
    }
   ],
   "source": [
    "arr.reshape(1, 2, 2, 3)"
   ]
  },
  {
   "cell_type": "code",
   "execution_count": 197,
   "id": "16747a77-e4d7-4399-a91a-abf6a779701b",
   "metadata": {},
   "outputs": [
    {
     "data": {
      "text/plain": [
       "array([[[[4, 4, 1],\n",
       "         [4, 1, 2]],\n",
       "\n",
       "        [[1, 4, 4],\n",
       "         [4, 4, 2]]]])"
      ]
     },
     "execution_count": 197,
     "metadata": {},
     "output_type": "execute_result"
    }
   ],
   "source": [
    "arr.reshape(1, 2, 2, 3) #to know the dimension"
   ]
  },
  {
   "cell_type": "code",
   "execution_count": 201,
   "id": "4b325ad0-477c-4927-be93-7c4c971d651f",
   "metadata": {},
   "outputs": [
    {
     "data": {
      "text/plain": [
       "array([[[4],\n",
       "        [4],\n",
       "        [1]],\n",
       "\n",
       "       [[4],\n",
       "        [1],\n",
       "        [2]],\n",
       "\n",
       "       [[1],\n",
       "        [4],\n",
       "        [4]],\n",
       "\n",
       "       [[4],\n",
       "        [4],\n",
       "        [2]]])"
      ]
     },
     "execution_count": 201,
     "metadata": {},
     "output_type": "execute_result"
    }
   ],
   "source": [
    "arr.reshape(4, 3, 1) #3 rows 1 column repeated 4 times in the third dimension"
   ]
  },
  {
   "cell_type": "code",
   "execution_count": 203,
   "id": "789fb085-f142-4568-8e34-fda2592b6e4b",
   "metadata": {},
   "outputs": [],
   "source": [
    "#conditions on array\n",
    "arr1=np.random.randint(1, 10, (5, 6))"
   ]
  },
  {
   "cell_type": "code",
   "execution_count": 205,
   "id": "23518063-5662-4a5b-b720-addccc4ee801",
   "metadata": {},
   "outputs": [
    {
     "data": {
      "text/plain": [
       "array([[8, 1, 3, 8, 6, 9],\n",
       "       [7, 4, 7, 2, 1, 8],\n",
       "       [5, 8, 1, 3, 8, 5],\n",
       "       [9, 8, 3, 1, 4, 4],\n",
       "       [3, 9, 5, 1, 1, 7]])"
      ]
     },
     "execution_count": 205,
     "metadata": {},
     "output_type": "execute_result"
    }
   ],
   "source": [
    "arr1"
   ]
  },
  {
   "cell_type": "code",
   "execution_count": 207,
   "id": "c0e4756a-d7e3-437f-a944-9f7d48a919d4",
   "metadata": {},
   "outputs": [
    {
     "data": {
      "text/plain": [
       "(5, 6)"
      ]
     },
     "execution_count": 207,
     "metadata": {},
     "output_type": "execute_result"
    }
   ],
   "source": [
    "arr1.shape"
   ]
  },
  {
   "cell_type": "code",
   "execution_count": 209,
   "id": "a72ddd12-c05b-4c54-b4ec-2d83eadb2867",
   "metadata": {},
   "outputs": [
    {
     "data": {
      "text/plain": [
       "30"
      ]
     },
     "execution_count": 209,
     "metadata": {},
     "output_type": "execute_result"
    }
   ],
   "source": [
    "arr1.size"
   ]
  },
  {
   "cell_type": "code",
   "execution_count": 211,
   "id": "a9233f00-3865-4843-b0b7-5049b2ea0064",
   "metadata": {},
   "outputs": [
    {
     "data": {
      "text/plain": [
       "2"
      ]
     },
     "execution_count": 211,
     "metadata": {},
     "output_type": "execute_result"
    }
   ],
   "source": [
    "arr1.ndim"
   ]
  },
  {
   "cell_type": "code",
   "execution_count": 213,
   "id": "4fbe2729-f355-4c41-9a9e-47e5473ce589",
   "metadata": {},
   "outputs": [
    {
     "data": {
      "text/plain": [
       "array([[8, 1, 3, 8, 6, 9],\n",
       "       [7, 4, 7, 2, 1, 8],\n",
       "       [5, 8, 1, 3, 8, 5],\n",
       "       [9, 8, 3, 1, 4, 4],\n",
       "       [3, 9, 5, 1, 1, 7]])"
      ]
     },
     "execution_count": 213,
     "metadata": {},
     "output_type": "execute_result"
    }
   ],
   "source": [
    "arr1"
   ]
  },
  {
   "cell_type": "code",
   "execution_count": 215,
   "id": "ec64c2f2-5cb7-4bf8-a484-c1f0f2632dd6",
   "metadata": {},
   "outputs": [
    {
     "data": {
      "text/plain": [
       "array([[ True, False, False,  True,  True,  True],\n",
       "       [ True,  True,  True, False, False,  True],\n",
       "       [ True,  True, False, False,  True,  True],\n",
       "       [ True,  True, False, False,  True,  True],\n",
       "       [False,  True,  True, False, False,  True]])"
      ]
     },
     "execution_count": 215,
     "metadata": {},
     "output_type": "execute_result"
    }
   ],
   "source": [
    "arr1 > 3"
   ]
  },
  {
   "cell_type": "code",
   "execution_count": 221,
   "id": "dbf5d148-8604-4353-8b59-0f3fa2a3f4c5",
   "metadata": {},
   "outputs": [
    {
     "data": {
      "text/plain": [
       "array([8, 8, 6, 9, 7, 4, 7, 8, 5, 8, 8, 5, 9, 8, 4, 4, 9, 5, 7])"
      ]
     },
     "execution_count": 221,
     "metadata": {},
     "output_type": "execute_result"
    }
   ],
   "source": [
    "arr1[arr1 > 3] #select all the elements of arr1 where the condition is true and greater than 3"
   ]
  },
  {
   "cell_type": "code",
   "execution_count": 223,
   "id": "e7de3ead-880b-405f-837d-ba8571e17fd9",
   "metadata": {},
   "outputs": [
    {
     "data": {
      "text/plain": [
       "array([1, 2, 1, 1, 1, 1, 1])"
      ]
     },
     "execution_count": 223,
     "metadata": {},
     "output_type": "execute_result"
    }
   ],
   "source": [
    "arr1[arr1 < 3]"
   ]
  },
  {
   "cell_type": "code",
   "execution_count": 225,
   "id": "f1b521c9-e321-43a0-97a3-05b8129027f2",
   "metadata": {},
   "outputs": [
    {
     "data": {
      "text/plain": [
       "array([[8, 1, 3, 8, 6, 9],\n",
       "       [7, 4, 7, 2, 1, 8],\n",
       "       [5, 8, 1, 3, 8, 5],\n",
       "       [9, 8, 3, 1, 4, 4],\n",
       "       [3, 9, 5, 1, 1, 7]])"
      ]
     },
     "execution_count": 225,
     "metadata": {},
     "output_type": "execute_result"
    }
   ],
   "source": [
    "arr1"
   ]
  },
  {
   "cell_type": "code",
   "execution_count": 227,
   "id": "9c17c583-c57e-438e-a8bf-7b6001824541",
   "metadata": {},
   "outputs": [],
   "source": [
    "#to access elements in an array"
   ]
  },
  {
   "cell_type": "code",
   "execution_count": 229,
   "id": "1666ccf0-ccc5-4338-8c7b-63a9070d71a7",
   "metadata": {},
   "outputs": [
    {
     "data": {
      "text/plain": [
       "array([8, 1, 3, 8, 6, 9])"
      ]
     },
     "execution_count": 229,
     "metadata": {},
     "output_type": "execute_result"
    }
   ],
   "source": [
    "arr1[0]"
   ]
  },
  {
   "cell_type": "code",
   "execution_count": 231,
   "id": "afd78560-01d2-49f4-b598-98cb6b62f9f7",
   "metadata": {},
   "outputs": [
    {
     "data": {
      "text/plain": [
       "array([7, 4, 7, 2, 1, 8])"
      ]
     },
     "execution_count": 231,
     "metadata": {},
     "output_type": "execute_result"
    }
   ],
   "source": [
    "arr1[1]"
   ]
  },
  {
   "cell_type": "code",
   "execution_count": 235,
   "id": "a7e482fd-f0ba-4ca7-aaef-2b23e9912d2a",
   "metadata": {},
   "outputs": [
    {
     "data": {
      "text/plain": [
       "7"
      ]
     },
     "execution_count": 235,
     "metadata": {},
     "output_type": "execute_result"
    }
   ],
   "source": [
    "arr1[1][0]"
   ]
  },
  {
   "cell_type": "code",
   "execution_count": 245,
   "id": "a55fd26f-7411-4f1b-ad24-cddf48b5d99c",
   "metadata": {},
   "outputs": [],
   "source": [
    "#slicing"
   ]
  },
  {
   "cell_type": "code",
   "execution_count": 247,
   "id": "edabced7-9f73-4a36-8577-4d7ca7a4dd74",
   "metadata": {},
   "outputs": [
    {
     "data": {
      "text/plain": [
       "array([[8, 1, 3, 8, 6, 9],\n",
       "       [7, 4, 7, 2, 1, 8],\n",
       "       [5, 8, 1, 3, 8, 5]])"
      ]
     },
     "execution_count": 247,
     "metadata": {},
     "output_type": "execute_result"
    }
   ],
   "source": [
    "#from 0th row to 2nd row\n",
    "arr1[0:3]"
   ]
  },
  {
   "cell_type": "code",
   "execution_count": 249,
   "id": "61c0416d-fb48-46e6-849c-6397170a8269",
   "metadata": {},
   "outputs": [
    {
     "data": {
      "text/plain": [
       "array([[8, 3],\n",
       "       [7, 7],\n",
       "       [5, 1]])"
      ]
     },
     "execution_count": 249,
     "metadata": {},
     "output_type": "execute_result"
    }
   ],
   "source": [
    "#0 to 2nd row and 0th and 2nd column\n",
    "arr1[0:3,[0,2]]"
   ]
  },
  {
   "cell_type": "code",
   "execution_count": 251,
   "id": "6b47bf20-9c99-4171-855b-d61994662255",
   "metadata": {},
   "outputs": [
    {
     "data": {
      "text/plain": [
       "array([[8, 1, 3, 8, 6, 9],\n",
       "       [7, 4, 7, 2, 1, 8],\n",
       "       [5, 8, 1, 3, 8, 5],\n",
       "       [9, 8, 3, 1, 4, 4],\n",
       "       [3, 9, 5, 1, 1, 7]])"
      ]
     },
     "execution_count": 251,
     "metadata": {},
     "output_type": "execute_result"
    }
   ],
   "source": [
    "#slicing on both rows and columns together\n",
    "arr1"
   ]
  },
  {
   "cell_type": "code",
   "execution_count": 253,
   "id": "e7cdcadb-8789-4b46-8673-7c95485b0024",
   "metadata": {},
   "outputs": [
    {
     "data": {
      "text/plain": [
       "array([[1, 3],\n",
       "       [4, 7],\n",
       "       [8, 1]])"
      ]
     },
     "execution_count": 253,
     "metadata": {},
     "output_type": "execute_result"
    }
   ],
   "source": [
    "arr1[0:3, 1:3]"
   ]
  },
  {
   "cell_type": "code",
   "execution_count": 255,
   "id": "711b162c-9e04-4d56-be4d-e5631d880219",
   "metadata": {},
   "outputs": [
    {
     "data": {
      "text/plain": [
       "array([[8, 1],\n",
       "       [7, 4],\n",
       "       [5, 8]])"
      ]
     },
     "execution_count": 255,
     "metadata": {},
     "output_type": "execute_result"
    }
   ],
   "source": [
    "arr1[0:3, [0, 1]]"
   ]
  },
  {
   "cell_type": "code",
   "execution_count": 257,
   "id": "a95d1a41-8c24-41d5-9961-6bc1980bf6c0",
   "metadata": {},
   "outputs": [
    {
     "data": {
      "text/plain": [
       "array([1, 8])"
      ]
     },
     "execution_count": 257,
     "metadata": {},
     "output_type": "execute_result"
    }
   ],
   "source": [
    "arr1[0, [1, 3]]"
   ]
  },
  {
   "cell_type": "code",
   "execution_count": 259,
   "id": "a8a61593-c394-4113-b5e1-b7e4e3949511",
   "metadata": {},
   "outputs": [
    {
     "data": {
      "text/plain": [
       "array([[5, 3],\n",
       "       [9, 1]])"
      ]
     },
     "execution_count": 259,
     "metadata": {},
     "output_type": "execute_result"
    }
   ],
   "source": [
    "arr1[2:4, [0, 3]]"
   ]
  },
  {
   "cell_type": "code",
   "execution_count": 261,
   "id": "40c435fa-5245-4c05-9b1a-4f8980fc4af0",
   "metadata": {},
   "outputs": [
    {
     "data": {
      "text/plain": [
       "array([[5, 8, 1, 3, 8, 5],\n",
       "       [9, 8, 3, 1, 4, 4],\n",
       "       [3, 9, 5, 1, 1, 7]])"
      ]
     },
     "execution_count": 261,
     "metadata": {},
     "output_type": "execute_result"
    }
   ],
   "source": [
    "arr1[2:5]"
   ]
  },
  {
   "cell_type": "code",
   "execution_count": 263,
   "id": "4edbfeb3-6773-4143-b78d-b5accf374341",
   "metadata": {},
   "outputs": [
    {
     "data": {
      "text/plain": [
       "array([[5, 8],\n",
       "       [9, 8],\n",
       "       [3, 9]])"
      ]
     },
     "execution_count": 263,
     "metadata": {},
     "output_type": "execute_result"
    }
   ],
   "source": [
    "arr1[2:5, 0:2]"
   ]
  },
  {
   "cell_type": "code",
   "execution_count": 265,
   "id": "af60c502-a19b-472c-b970-2c6856ab7ad6",
   "metadata": {},
   "outputs": [],
   "source": [
    "#mathematical operations on two arrays \n",
    "arr1 = np.random.randint(1, 3, (3,3))\n",
    "arr2 = np.random.randint(1, 3, (3,3))"
   ]
  },
  {
   "cell_type": "code",
   "execution_count": 267,
   "id": "b4191b63-bf89-4284-8f15-623b16c4b113",
   "metadata": {},
   "outputs": [
    {
     "data": {
      "text/plain": [
       "array([[1, 2, 2],\n",
       "       [1, 2, 2],\n",
       "       [1, 2, 1]])"
      ]
     },
     "execution_count": 267,
     "metadata": {},
     "output_type": "execute_result"
    }
   ],
   "source": [
    "arr1"
   ]
  },
  {
   "cell_type": "code",
   "execution_count": 269,
   "id": "3ed5ed51-7a4e-4229-89ac-659eb63efb79",
   "metadata": {},
   "outputs": [
    {
     "data": {
      "text/plain": [
       "array([[2, 2, 2],\n",
       "       [2, 1, 1],\n",
       "       [2, 1, 1]])"
      ]
     },
     "execution_count": 269,
     "metadata": {},
     "output_type": "execute_result"
    }
   ],
   "source": [
    "arr2"
   ]
  },
  {
   "cell_type": "code",
   "execution_count": 271,
   "id": "d80e9cc0-6450-4431-b0f9-c0b3f4c9b7d8",
   "metadata": {},
   "outputs": [
    {
     "data": {
      "text/plain": [
       "array([[3, 4, 4],\n",
       "       [3, 3, 3],\n",
       "       [3, 3, 2]])"
      ]
     },
     "execution_count": 271,
     "metadata": {},
     "output_type": "execute_result"
    }
   ],
   "source": [
    "arr1+arr2"
   ]
  },
  {
   "cell_type": "code",
   "execution_count": 273,
   "id": "958e8649-3439-4ade-bafb-1cbc5f5b0b0c",
   "metadata": {},
   "outputs": [
    {
     "data": {
      "text/plain": [
       "array([[-1,  0,  0],\n",
       "       [-1,  1,  1],\n",
       "       [-1,  1,  0]])"
      ]
     },
     "execution_count": 273,
     "metadata": {},
     "output_type": "execute_result"
    }
   ],
   "source": [
    "arr1-arr2"
   ]
  },
  {
   "cell_type": "code",
   "execution_count": 275,
   "id": "a6746cb7-1dbe-4152-bfec-36d13bf0f454",
   "metadata": {},
   "outputs": [
    {
     "data": {
      "text/plain": [
       "array([[2, 4, 4],\n",
       "       [2, 2, 2],\n",
       "       [2, 2, 1]])"
      ]
     },
     "execution_count": 275,
     "metadata": {},
     "output_type": "execute_result"
    }
   ],
   "source": [
    "arr1 * arr2 #index wise multiplication"
   ]
  },
  {
   "cell_type": "code",
   "execution_count": 277,
   "id": "95d45c4b-8156-49c7-8c24-7d9d7eba853d",
   "metadata": {},
   "outputs": [
    {
     "data": {
      "text/plain": [
       "array([[0.5, 1. , 1. ],\n",
       "       [0.5, 2. , 2. ],\n",
       "       [0.5, 2. , 1. ]])"
      ]
     },
     "execution_count": 277,
     "metadata": {},
     "output_type": "execute_result"
    }
   ],
   "source": [
    "arr1/arr2 #index wise division"
   ]
  },
  {
   "cell_type": "code",
   "execution_count": 279,
   "id": "8c043688-5487-40ec-bd79-107eea83ae25",
   "metadata": {},
   "outputs": [
    {
     "ename": "ZeroDivisionError",
     "evalue": "division by zero",
     "output_type": "error",
     "traceback": [
      "\u001b[1;31m---------------------------------------------------------------------------\u001b[0m",
      "\u001b[1;31mZeroDivisionError\u001b[0m                         Traceback (most recent call last)",
      "Cell \u001b[1;32mIn[279], line 1\u001b[0m\n\u001b[1;32m----> 1\u001b[0m \u001b[38;5;241m4\u001b[39m\u001b[38;5;241m/\u001b[39m\u001b[38;5;241m0\u001b[39m\n",
      "\u001b[1;31mZeroDivisionError\u001b[0m: division by zero"
     ]
    }
   ],
   "source": [
    "4/0  #in python it used to give you ZeroDivisonError"
   ]
  },
  {
   "cell_type": "code",
   "execution_count": 281,
   "id": "11d2b79e-7880-4149-baf3-592de92a4c80",
   "metadata": {},
   "outputs": [
    {
     "name": "stderr",
     "output_type": "stream",
     "text": [
      "C:\\Users\\Chandan Singh\\AppData\\Local\\Temp\\ipykernel_35672\\1510032488.py:1: RuntimeWarning: divide by zero encountered in divide\n",
      "  arr1/0\n"
     ]
    },
    {
     "data": {
      "text/plain": [
       "array([[inf, inf, inf],\n",
       "       [inf, inf, inf],\n",
       "       [inf, inf, inf]])"
      ]
     },
     "execution_count": 281,
     "metadata": {},
     "output_type": "execute_result"
    }
   ],
   "source": [
    "arr1/0"
   ]
  },
  {
   "cell_type": "code",
   "execution_count": 283,
   "id": "5b2c4c3d-d656-44cc-aed8-649b8a070767",
   "metadata": {},
   "outputs": [],
   "source": [
    "#matrix multiplication >> matrix is a specialised 2-D array\n",
    "#matrix multiplication is different from index wise multiplication"
   ]
  },
  {
   "cell_type": "code",
   "execution_count": 287,
   "id": "280307a4-2208-40b1-9bd6-3b8b3b67e13c",
   "metadata": {},
   "outputs": [
    {
     "data": {
      "text/plain": [
       "array([[10,  6,  6],\n",
       "       [10,  6,  6],\n",
       "       [ 8,  5,  5]])"
      ]
     },
     "execution_count": 287,
     "metadata": {},
     "output_type": "execute_result"
    }
   ],
   "source": [
    "arr1 @ arr2  #using @"
   ]
  },
  {
   "cell_type": "code",
   "execution_count": 289,
   "id": "f3bd4a1c-669f-4812-afa1-6eb2ee1c1d05",
   "metadata": {},
   "outputs": [
    {
     "data": {
      "text/plain": [
       "array([[10,  6,  6],\n",
       "       [10,  6,  6],\n",
       "       [ 8,  5,  5]])"
      ]
     },
     "execution_count": 289,
     "metadata": {},
     "output_type": "execute_result"
    }
   ],
   "source": [
    "np.dot(arr1, arr2)  #anothe way for matrix multiplication"
   ]
  },
  {
   "cell_type": "code",
   "execution_count": 291,
   "id": "0bf7742d-518f-4bc2-917c-ecf811780958",
   "metadata": {},
   "outputs": [],
   "source": [
    "#broadcasting "
   ]
  },
  {
   "cell_type": "code",
   "execution_count": 293,
   "id": "6c84a58e-48ce-4483-afa7-3b5bd5011d5e",
   "metadata": {},
   "outputs": [],
   "source": [
    "arr =np.zeros((3, 4))"
   ]
  },
  {
   "cell_type": "code",
   "execution_count": 295,
   "id": "ff4e9747-0bec-4c08-b65a-c83328127b13",
   "metadata": {},
   "outputs": [
    {
     "data": {
      "text/plain": [
       "array([[0., 0., 0., 0.],\n",
       "       [0., 0., 0., 0.],\n",
       "       [0., 0., 0., 0.]])"
      ]
     },
     "execution_count": 295,
     "metadata": {},
     "output_type": "execute_result"
    }
   ],
   "source": [
    "arr"
   ]
  },
  {
   "cell_type": "code",
   "execution_count": 297,
   "id": "eb7c555d-9742-4451-9260-0b9a48a91b4e",
   "metadata": {},
   "outputs": [
    {
     "data": {
      "text/plain": [
       "array([[5., 5., 5., 5.],\n",
       "       [5., 5., 5., 5.],\n",
       "       [5., 5., 5., 5.]])"
      ]
     },
     "execution_count": 297,
     "metadata": {},
     "output_type": "execute_result"
    }
   ],
   "source": [
    "arr+5"
   ]
  },
  {
   "cell_type": "code",
   "execution_count": 299,
   "id": "b93fafda-b804-427a-a8e0-d0b7b0ca3186",
   "metadata": {},
   "outputs": [
    {
     "data": {
      "text/plain": [
       "array([[-5., -5., -5., -5.],\n",
       "       [-5., -5., -5., -5.],\n",
       "       [-5., -5., -5., -5.]])"
      ]
     },
     "execution_count": 299,
     "metadata": {},
     "output_type": "execute_result"
    }
   ],
   "source": [
    "arr-5"
   ]
  },
  {
   "cell_type": "code",
   "execution_count": 301,
   "id": "50b60b28-eea0-4ed6-9d5d-a916e9cade1e",
   "metadata": {},
   "outputs": [],
   "source": [
    "a = np.array([1, 2, 3, 4])"
   ]
  },
  {
   "cell_type": "code",
   "execution_count": 303,
   "id": "38af6532-8e5b-4107-a5f0-d223f7c4520b",
   "metadata": {},
   "outputs": [
    {
     "data": {
      "text/plain": [
       "array([1, 2, 3, 4])"
      ]
     },
     "execution_count": 303,
     "metadata": {},
     "output_type": "execute_result"
    }
   ],
   "source": [
    "a"
   ]
  },
  {
   "cell_type": "code",
   "execution_count": 305,
   "id": "f96859fa-2326-43ff-87af-c022df3579b7",
   "metadata": {},
   "outputs": [
    {
     "data": {
      "text/plain": [
       "array([[0., 0., 0., 0.],\n",
       "       [0., 0., 0., 0.],\n",
       "       [0., 0., 0., 0.]])"
      ]
     },
     "execution_count": 305,
     "metadata": {},
     "output_type": "execute_result"
    }
   ],
   "source": [
    "arr"
   ]
  },
  {
   "cell_type": "code",
   "execution_count": 307,
   "id": "4267baf0-2631-41c1-9845-8674920fbf5a",
   "metadata": {},
   "outputs": [
    {
     "data": {
      "text/plain": [
       "array([[1., 2., 3., 4.],\n",
       "       [1., 2., 3., 4.],\n",
       "       [1., 2., 3., 4.]])"
      ]
     },
     "execution_count": 307,
     "metadata": {},
     "output_type": "execute_result"
    }
   ],
   "source": [
    "arr+a"
   ]
  },
  {
   "cell_type": "code",
   "execution_count": 311,
   "id": "da05cde9-053f-468e-b72a-fbae83cd30b6",
   "metadata": {},
   "outputs": [],
   "source": [
    "#Transpose >> converting rows to columns and columns to rows\n",
    "##it works for two dimension"
   ]
  },
  {
   "cell_type": "code",
   "execution_count": 313,
   "id": "2a533e26-63ce-4907-844c-6973cbf03172",
   "metadata": {},
   "outputs": [],
   "source": [
    "a = np.array([[1, 2, 3, 4]])"
   ]
  },
  {
   "cell_type": "code",
   "execution_count": 315,
   "id": "a63afe93-8216-4313-b84f-4df19a1cd5e8",
   "metadata": {},
   "outputs": [
    {
     "data": {
      "text/plain": [
       "array([[1, 2, 3, 4]])"
      ]
     },
     "execution_count": 315,
     "metadata": {},
     "output_type": "execute_result"
    }
   ],
   "source": [
    "a"
   ]
  },
  {
   "cell_type": "code",
   "execution_count": 317,
   "id": "20e06d3e-a40b-4202-a1cc-47faf05e75d4",
   "metadata": {},
   "outputs": [
    {
     "data": {
      "text/plain": [
       "array([[1],\n",
       "       [2],\n",
       "       [3],\n",
       "       [4]])"
      ]
     },
     "execution_count": 317,
     "metadata": {},
     "output_type": "execute_result"
    }
   ],
   "source": [
    "a.T"
   ]
  },
  {
   "cell_type": "code",
   "execution_count": 319,
   "id": "5535b0bb-0f29-40cf-ba4f-4456d9912ae0",
   "metadata": {},
   "outputs": [
    {
     "data": {
      "text/plain": [
       "array([[1, 2, 2],\n",
       "       [1, 2, 2],\n",
       "       [1, 2, 1]])"
      ]
     },
     "execution_count": 319,
     "metadata": {},
     "output_type": "execute_result"
    }
   ],
   "source": [
    "arr1"
   ]
  },
  {
   "cell_type": "code",
   "execution_count": 321,
   "id": "ad72851c-f527-4a32-b95c-2994f60e7db9",
   "metadata": {},
   "outputs": [
    {
     "data": {
      "text/plain": [
       "array([[1, 1, 1],\n",
       "       [2, 2, 2],\n",
       "       [2, 2, 1]])"
      ]
     },
     "execution_count": 321,
     "metadata": {},
     "output_type": "execute_result"
    }
   ],
   "source": [
    "arr1.T"
   ]
  },
  {
   "cell_type": "code",
   "execution_count": null,
   "id": "d53a3319-f51e-409e-bb04-ad2823beb7d6",
   "metadata": {},
   "outputs": [],
   "source": []
  }
 ],
 "metadata": {
  "kernelspec": {
   "display_name": "Python [conda env:base] *",
   "language": "python",
   "name": "conda-base-py"
  },
  "language_info": {
   "codemirror_mode": {
    "name": "ipython",
    "version": 3
   },
   "file_extension": ".py",
   "mimetype": "text/x-python",
   "name": "python",
   "nbconvert_exporter": "python",
   "pygments_lexer": "ipython3",
   "version": "3.12.7"
  }
 },
 "nbformat": 4,
 "nbformat_minor": 5
}
